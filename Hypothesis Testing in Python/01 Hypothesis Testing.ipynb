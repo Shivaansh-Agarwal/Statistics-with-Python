{
 "cells": [
  {
   "cell_type": "markdown",
   "metadata": {},
   "source": [
    "### Why do we do Hypothesis Testing ?\n",
    "We perform Hypothesis Testing in order to get some inference about what the value of population parameter (mean/proportion) might be.\n",
    "\n",
    "To state more simply, we basically ask the question:<br>\n",
    "* Could the value of the population parameter be ____?\n",
    "* With that question we use data to help support that claim, or maybe go against that claim."
   ]
  },
  {
   "cell_type": "markdown",
   "metadata": {},
   "source": [
    "We perform Hypothesis Test on a **'RESEARCH QUESTION'**.<br>\n",
    "From that Research Question, we try to figure out:<br>\n",
    "* POPULATION\n",
    "* PARAMETER OF INTEREST (Mean/Proportion)\n",
    "* Goal"
   ]
  },
  {
   "cell_type": "markdown",
   "metadata": {},
   "source": [
    "#### To carry out Hypothesis Testing following steps are performed:\n",
    "1. Define NULL and ALTERNATE Hypothesis and select Significance Level\n",
    "2. Perform following steps:\n",
    "    * Examine Data\n",
    "    * Check Assumptions\n",
    "    * Calculate Test Statistic\n",
    "3. Determine p-value using test statistic\n",
    "4. Make a Decision and write Conclusion"
   ]
  },
  {
   "cell_type": "code",
   "execution_count": null,
   "metadata": {},
   "outputs": [],
   "source": []
  }
 ],
 "metadata": {
  "kernelspec": {
   "display_name": "Python 3",
   "language": "python",
   "name": "python3"
  },
  "language_info": {
   "codemirror_mode": {
    "name": "ipython",
    "version": 3
   },
   "file_extension": ".py",
   "mimetype": "text/x-python",
   "name": "python",
   "nbconvert_exporter": "python",
   "pygments_lexer": "ipython3",
   "version": "3.7.2"
  }
 },
 "nbformat": 4,
 "nbformat_minor": 2
}
