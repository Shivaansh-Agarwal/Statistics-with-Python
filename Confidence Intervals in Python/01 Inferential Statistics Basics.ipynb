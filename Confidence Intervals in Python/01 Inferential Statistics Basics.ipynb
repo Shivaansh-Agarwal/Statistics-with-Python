{
 "cells": [
  {
   "cell_type": "markdown",
   "metadata": {},
   "source": [
    "# Inferential Statistics Basics"
   ]
  },
  {
   "cell_type": "markdown",
   "metadata": {},
   "source": [
    "In **Inferential Statistics** we've some sample data,<br>\n",
    "from that we calculate Sample Statistic (like Sample Mean $\\bar{x}$, Sample Standard Deviation $s$, Sample Propotion $\\hat{p}$)<br>\n",
    "and using that sample statistic,<br> \n",
    "we want to make inference about the Population Parameters (like Population Mean $\\mu$, Population Standard Deviation $\\sigma$, Population Proportion $p$) <br>\n",
    "with confidence."
   ]
  },
  {
   "cell_type": "markdown",
   "metadata": {},
   "source": [
    "For **Statistical Inference** we use sample data to:<br>\n",
    "1. Estimate parameters with confidence\n",
    "2. Test Theories about parameters"
   ]
  },
  {
   "cell_type": "markdown",
   "metadata": {},
   "source": [
    "### p-value\n",
    "We first determine the NULL Hypothesis and the ALTERNATE Hypothesis.<br>\n",
    "**NULL Hypothesis:** basically means that there is NO Significant Difference between the two entities considered.<br>\n",
    "**ALTERNATE Hypothesis:** means that there is some Significant Difference between the two entities considered.\n",
    "\n",
    "If we assume the NULL Hypothesis to be true, then **p-value** is the probability of getting a particular sample statistic.<br>\n",
    "If that probability is less than the significance level $\\alpha$ then we **reject the NULL Hypothesis**, else<br>\n",
    "we **Fail to Reject the NULL Hypothesis**."
   ]
  },
  {
   "cell_type": "markdown",
   "metadata": {},
   "source": [
    "Sample -> Statistic<br>\n",
    "Population -> Parameter"
   ]
  },
  {
   "cell_type": "markdown",
   "metadata": {},
   "source": [
    "# Confidence Interval\n",
    "\n",
    "* **Confidence Interval** is a calculated range of values around a sample statistic that is supported mathematically with a certain level of confidence.<br>\n",
    "* It is used to give an interval estimate for our population parameter of interest with confidence.<br>\n",
    "\n",
    "\n",
    "* **Confidence Level** is the confidence in the statistical procedure that is used to make the interval.<br>\n",
    "* If the procedure of taking samples of same size is repeated over and over again, each time producing a, say 95% confidence interval estimate then we would expect 95% of those resulting intervals to contain the actual population parameter."
   ]
  },
  {
   "cell_type": "markdown",
   "metadata": {},
   "source": [
    "# Examples of some Research Questions\n",
    "The following are some examples related to Inferential Statistics, in which we've collected some sample data and we want to make inference about the population with confidence."
   ]
  },
  {
   "cell_type": "markdown",
   "metadata": {},
   "source": [
    "### I. Estimating a Population Proportion with Confidence\n",
    "**What proportion of all parents with toddlers report that they use a car seat for all travel with their toddler?**<br>\n",
    "In this case we've: <br>\n",
    "PARAMETER OF INTEREST: A proportion <br>\n",
    "POPULATION: All parents with toddlers"
   ]
  },
  {
   "cell_type": "markdown",
   "metadata": {},
   "source": [
    "### II. Estimating a Difference in Population Proportion with Confidence\n",
    "**RESEARCH QUESTION: What is the difference in population proportion of parents reporting that their children age 6-18 have had some swimming lessons between white children and black children?**<br>\n",
    "In this case we've:<br>\n",
    "PARAMETER OF INTEREST: Difference in Population Proportion<br>\n",
    "POPULATIONS: All parents of white children age 6-18 and all parents of black children age 6-18."
   ]
  },
  {
   "cell_type": "markdown",
   "metadata": {},
   "source": [
    "### III. Estimating a Population Mean with Confidence\n",
    "**What is the average cartwheel distance for all adults?**<br>\n",
    "In this case we've:<br>\n",
    "PARAMETER OF INTEREST: Average Cartwheel Distance<br>\n",
    "POPULATION: All Adults"
   ]
  },
  {
   "cell_type": "markdown",
   "metadata": {},
   "source": [
    "### IV. Estimating a Mean Difference for Paired Data\n",
    "**What is the average difference in self-reported education between older twin and younger twin?**<br>\n",
    "In this case we've:<br>\n",
    "PARAMETER OF INTEREST: Population mean difference of self-reported education level.<BR>\n",
    "POPULATION: All identical twins."
   ]
  },
  {
   "cell_type": "markdown",
   "metadata": {},
   "source": [
    "### V. Estimating a Difference in Population Means with Confidence (for Independent Groups)\n",
    "**Considering Mexican-American adults (ages 18-29) living in the US, do males have a significantly higher mean BMI than females?**<br>\n",
    "In this case we've:<br>\n",
    "PARAMETER OF INTEREST: Mean difference of BMI of Males and Females<BR>\n",
    "POPULATION: All Mexican-American adults (ages 18-29)"
   ]
  }
 ],
 "metadata": {
  "kernelspec": {
   "display_name": "Python 3",
   "language": "python",
   "name": "python3"
  },
  "language_info": {
   "codemirror_mode": {
    "name": "ipython",
    "version": 3
   },
   "file_extension": ".py",
   "mimetype": "text/x-python",
   "name": "python",
   "nbconvert_exporter": "python",
   "pygments_lexer": "ipython3",
   "version": "3.7.2"
  }
 },
 "nbformat": 4,
 "nbformat_minor": 2
}
